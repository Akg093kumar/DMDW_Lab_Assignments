{
  "nbformat": 4,
  "nbformat_minor": 0,
  "metadata": {
    "colab": {
      "name": "LabAss3.ipynb",
      "provenance": [],
      "collapsed_sections": [],
      "authorship_tag": "ABX9TyM+KxRL6S8ntFMIKBntWulJ",
      "include_colab_link": true
    },
    "kernelspec": {
      "name": "python3",
      "display_name": "Python 3"
    },
    "language_info": {
      "name": "python"
    }
  },
  "cells": [
    {
      "cell_type": "markdown",
      "metadata": {
        "id": "view-in-github",
        "colab_type": "text"
      },
      "source": [
        "<a href=\"https://colab.research.google.com/github/Akg093kumar/DMDW_Lab_Assignments/blob/main/LabAss3.ipynb\" target=\"_parent\"><img src=\"https://colab.research.google.com/assets/colab-badge.svg\" alt=\"Open In Colab\"/></a>"
      ]
    },
    {
      "cell_type": "markdown",
      "metadata": {
        "id": "TeO9sJXVnzJJ"
      },
      "source": [
        "**Calculation using and without using libarary**"
      ]
    },
    {
      "cell_type": "code",
      "metadata": {
        "id": "vmUFcJpuoYGJ"
      },
      "source": [
        "import numpy as np"
      ],
      "execution_count": 1,
      "outputs": []
    },
    {
      "cell_type": "code",
      "metadata": {
        "colab": {
          "base_uri": "https://localhost:8080/"
        },
        "id": "8oBg1eIHo6ui",
        "outputId": "bc813c2e-7686-423b-8656-e4ef113ece6e"
      },
      "source": [
        "x=[7.8,8.2,8.7,9.2,9.5]\n",
        "y=[3,3.2,3.8,4.1,4.4]\n",
        "print(\"array-x : \", x) \n",
        "print(\"array-y : \", y)"
      ],
      "execution_count": 2,
      "outputs": [
        {
          "output_type": "stream",
          "name": "stdout",
          "text": [
            "array-x :  [7.8, 8.2, 8.7, 9.2, 9.5]\n",
            "array-y :  [3, 3.2, 3.8, 4.1, 4.4]\n"
          ]
        }
      ]
    },
    {
      "cell_type": "markdown",
      "metadata": {
        "id": "kCCQSa_HtMxf"
      },
      "source": [
        ""
      ]
    },
    {
      "cell_type": "markdown",
      "metadata": {
        "id": "-cU4arb3o7z3"
      },
      "source": [
        "*1.1. variance*"
      ]
    },
    {
      "cell_type": "code",
      "metadata": {
        "colab": {
          "base_uri": "https://localhost:8080/"
        },
        "id": "P2p-vntqqFE9",
        "outputId": "2bf25206-5005-4747-9e06-2a441fa02c3f"
      },
      "source": [
        "print(\"array-x : \", x) \n",
        "print(\"array-y : \", y) \n",
        "print(\"variance of x : \", np.var(x,ddof=0))\n",
        "print(\"variance of y : \", np.var(y))"
      ],
      "execution_count": 3,
      "outputs": [
        {
          "output_type": "stream",
          "name": "stdout",
          "text": [
            "array-x :  [7.8, 8.2, 8.7, 9.2, 9.5]\n",
            "array-y :  [3, 3.2, 3.8, 4.1, 4.4]\n",
            "variance of x :  0.38960000000000006\n",
            "variance of y :  0.27999999999999997\n"
          ]
        }
      ]
    },
    {
      "cell_type": "markdown",
      "metadata": {
        "id": "hKqGLOViKneO"
      },
      "source": [
        "1.2."
      ]
    },
    {
      "cell_type": "code",
      "metadata": {
        "colab": {
          "base_uri": "https://localhost:8080/"
        },
        "id": "wF52cnGYth-s",
        "outputId": "4ef2aa14-ade5-4f98-ec23-7b5c47fb9d33"
      },
      "source": [
        "# mn1=np.mean(x)\n",
        "# mn2=np.mean(y)\n",
        "# # print('length of x',len(x))\n",
        "# #print(mean)\n",
        "# xvar=0\n",
        "# yvar=0\n",
        "# for i in range(1,len(x)):\n",
        "#   xvar+=(x[i]-mn1)**2\n",
        "# print(\"variance of x = \",xvar/len(x))\n",
        "\n",
        "# for j in range(1,len(y)):\n",
        "#   yvar+=(y[j]-mn2)**2\n",
        "\n",
        "# print(\"variance of y = \",yvar/len(x))\n",
        "\n",
        "mn1 = sum(x) / len(x)\n",
        "# print(mn1)\n",
        "xvar = sum((i-mn1)**2 for i in x) / len(x)\n",
        "print('variance of x = ',xvar)\n",
        "\n",
        "mn2 = sum(y) / len(y)\n",
        "# print(mn1)\n",
        "yvar = sum((j-mn2)**2 for j in y) / len(y)\n",
        "print('variance of y = ',yvar)"
      ],
      "execution_count": null,
      "outputs": [
        {
          "output_type": "stream",
          "name": "stdout",
          "text": [
            "variance of x =  0.38960000000000006\n",
            "variance of y =  0.27999999999999997\n"
          ]
        }
      ]
    },
    {
      "cell_type": "markdown",
      "metadata": {
        "id": "CsNzmEmgo2Rj"
      },
      "source": [
        "*2.1. standard deviation*"
      ]
    },
    {
      "cell_type": "code",
      "metadata": {
        "colab": {
          "base_uri": "https://localhost:8080/"
        },
        "id": "narCh1Lgp42j",
        "outputId": "fde2da7c-8255-4652-f42b-bd5fd8adedba"
      },
      "source": [
        "print(\"array-x : \", x) \n",
        "print(\"array-y : \", y) \n",
        "print(\"standard deviation of x : \", np.std(x))\n",
        "print(\"standard deviation of y : \", np.std(y))"
      ],
      "execution_count": 5,
      "outputs": [
        {
          "output_type": "stream",
          "name": "stdout",
          "text": [
            "array-x :  [7.8, 8.2, 8.7, 9.2, 9.5]\n",
            "array-y :  [3, 3.2, 3.8, 4.1, 4.4]\n",
            "standard deviation of x :  0.6241794613730894\n",
            "standard deviation of y :  0.529150262212918\n"
          ]
        }
      ]
    },
    {
      "cell_type": "code",
      "metadata": {
        "id": "sQ8RoWr51b_E"
      },
      "source": [
        "xvar = sum((i-mn1)**2 for i in x) / len(x)\n",
        "yvar = sum((i-mn2)**2 for j in y) / len(y)\n",
        "print(\"standard deviation of x : \", xvar**0.5)\n",
        "print(\"standard deviation of y : \", yvar**0.5)"
      ],
      "execution_count": 7,
      "outputs": []
    },
    {
      "cell_type": "markdown",
      "metadata": {
        "id": "u6LWmNsmqsOj"
      },
      "source": [
        "*3.1. covariance*"
      ]
    },
    {
      "cell_type": "code",
      "metadata": {
        "id": "QrwPR5sDre7T"
      },
      "source": [
        "\n",
        "x=[7.8,8.2,8.7,9.2,9.5]\n",
        "y=[3, 3.2, 3.8, 4.1, 4.4]\n",
        "print(\"array-x : \", x) \n",
        "print(\"array-y : \", y) \n",
        "\n",
        "print(\"covariance between x and y : \", np.cov(x,y))"
      ],
      "execution_count": 8,
      "outputs": []
    },
    {
      "cell_type": "markdown",
      "metadata": {
        "id": "bfFLmQ9wscuY"
      },
      "source": [
        "*4.1. correlation*"
      ]
    },
    {
      "cell_type": "code",
      "metadata": {
        "id": "Z5EC0CKUsjRX"
      },
      "source": [
        "print(\"array-x : \", x) \n",
        "print(\"array-y : \", y) \n",
        "\n",
        "print(\"correlation between x and y : \", np.corrcoef(x,y))"
      ],
      "execution_count": 9,
      "outputs": []
    }
  ]
}