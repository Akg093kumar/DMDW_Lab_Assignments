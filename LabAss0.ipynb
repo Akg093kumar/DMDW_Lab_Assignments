{
  "nbformat": 4,
  "nbformat_minor": 0,
  "metadata": {
    "colab": {
      "name": "LabAss0.ipynb",
      "provenance": [],
      "collapsed_sections": [],
      "authorship_tag": "ABX9TyO93Q2mH/SA+JZjfr485xMI",
      "include_colab_link": true
    },
    "kernelspec": {
      "name": "python3",
      "display_name": "Python 3"
    },
    "language_info": {
      "name": "python"
    }
  },
  "cells": [
    {
      "cell_type": "markdown",
      "metadata": {
        "id": "view-in-github",
        "colab_type": "text"
      },
      "source": [
        "<a href=\"https://colab.research.google.com/github/Akg093kumar/DMDW_Lab_Assignments/blob/main/LabAss0.ipynb\" target=\"_parent\"><img src=\"https://colab.research.google.com/assets/colab-badge.svg\" alt=\"Open In Colab\"/></a>"
      ]
    },
    {
      "cell_type": "markdown",
      "metadata": {
        "id": "c8lKfW1i_bbP"
      },
      "source": [
        "Declaring *List*"
      ]
    },
    {
      "cell_type": "code",
      "metadata": {
        "id": "HUWtJWeD_lHx"
      },
      "source": [
        "#let the list be\n",
        "lst=[12,35,-18,9.56,204]\n",
        "#print(lst)"
      ],
      "execution_count": null,
      "outputs": []
    },
    {
      "cell_type": "markdown",
      "metadata": {
        "id": "IZ_9uZL89-BW"
      },
      "source": [
        "Find **Mean**"
      ]
    },
    {
      "cell_type": "markdown",
      "metadata": {
        "id": "wKUFM864_WzC"
      },
      "source": [
        ""
      ]
    },
    {
      "cell_type": "code",
      "metadata": {
        "colab": {
          "base_uri": "https://localhost:8080/"
        },
        "id": "WeZHbs_n9t1w",
        "outputId": "621a11a6-4600-4426-ea3b-6c15f4102acf"
      },
      "source": [
        "print(\"Mean: \",sum(lst)/len(lst))\n",
        "\n",
        "# import numpy as np\n",
        "# print('Mean = ',np.mean(lst))"
      ],
      "execution_count": null,
      "outputs": [
        {
          "output_type": "stream",
          "name": "stdout",
          "text": [
            "Mean:  48.512\n"
          ]
        }
      ]
    },
    {
      "cell_type": "markdown",
      "metadata": {
        "id": "rSqP4D8s-ZP5"
      },
      "source": [
        "FInd **Median**"
      ]
    },
    {
      "cell_type": "code",
      "metadata": {
        "colab": {
          "base_uri": "https://localhost:8080/"
        },
        "id": "ClDr-_dp-vGT",
        "outputId": "2b164744-92e1-40b1-f70f-5c5aea6eaae8"
      },
      "source": [
        "lst.sort()\n",
        "#print(lst)\n",
        "n=len(lst)\n",
        "#print(n)\n",
        "if n%2==0:\n",
        "  mid1=lst[n//2]\n",
        "  mid2=lst[(n//2)-1]\n",
        "  median=(mid1+mid2)/2\n",
        "else:\n",
        "  median=lst[n//2]\n",
        "print(\"Median:\",median)\n",
        "\n",
        "\n",
        "# even lengthed list\n",
        "# lst2=[85,86,54,-63,3.25,.5]\n",
        "# lst2.sort()\n",
        "# n1=len(lst2)\n",
        "# print(lst2)\n",
        "# print((lst2[n1//2]+lst2[(n1//2)-1])/2)\n",
        "\n",
        "# import numpy as np\n",
        "# print('Median = ',np.median(lst))\n",
        "\n"
      ],
      "execution_count": null,
      "outputs": [
        {
          "output_type": "stream",
          "name": "stdout",
          "text": [
            "Median: 12\n"
          ]
        }
      ]
    },
    {
      "cell_type": "markdown",
      "metadata": {
        "id": "W7k81HprAV5N"
      },
      "source": [
        "Find **Mode**"
      ]
    },
    {
      "cell_type": "code",
      "metadata": {
        "colab": {
          "base_uri": "https://localhost:8080/"
        },
        "id": "UqVu25V_AbA1",
        "outputId": "804f455d-b33e-4777-b2c9-d3c9b70e82cc"
      },
      "source": [
        "from scipy import stats\n",
        "mode_li = [37,-9,83,-89,37,28,37,-9.9,-89,-9.9]\n",
        "print('Mode = ',stats.mode(mode_li))"
      ],
      "execution_count": null,
      "outputs": [
        {
          "output_type": "stream",
          "name": "stdout",
          "text": [
            "Mode =  ModeResult(mode=array([37.]), count=array([3]))\n"
          ]
        }
      ]
    },
    {
      "cell_type": "markdown",
      "metadata": {
        "id": "jU9sZ2Vd90z1"
      },
      "source": [
        ""
      ]
    }
  ]
}