{
  "nbformat": 4,
  "nbformat_minor": 0,
  "metadata": {
    "colab": {
      "name": "LabAss1.ipynb",
      "provenance": [],
      "collapsed_sections": [],
      "authorship_tag": "ABX9TyMCJqA9BQ+JoeU9egMdgCTi",
      "include_colab_link": true
    },
    "kernelspec": {
      "name": "python3",
      "display_name": "Python 3"
    },
    "language_info": {
      "name": "python"
    }
  },
  "cells": [
    {
      "cell_type": "markdown",
      "metadata": {
        "id": "view-in-github",
        "colab_type": "text"
      },
      "source": [
        "<a href=\"https://colab.research.google.com/github/Akg093kumar/DMDW_Lab_Assignments/blob/main/LabAss1.ipynb\" target=\"_parent\"><img src=\"https://colab.research.google.com/assets/colab-badge.svg\" alt=\"Open In Colab\"/></a>"
      ]
    },
    {
      "cell_type": "markdown",
      "metadata": {
        "id": "vE_07WexOxFT"
      },
      "source": [
        "**Diabetes** Dataset"
      ]
    },
    {
      "cell_type": "code",
      "metadata": {
        "id": "rOBl9QFIOtzt"
      },
      "source": [
        "import pandas as pd\n",
        "import numpy as np\n",
        "import matplotlib.pyplot as plt\n",
        "from sklearn.linear_model import LogisticRegression\n"
      ],
      "execution_count": 2,
      "outputs": []
    },
    {
      "cell_type": "markdown",
      "metadata": {
        "id": "mF7AQtcZPhnu"
      },
      "source": [
        "Data Decription"
      ]
    },
    {
      "cell_type": "code",
      "metadata": {
        "id": "bvr8Pr6ePpzW"
      },
      "source": [
        "from sklearn.datasets import load_diabetes\n",
        "diabetesDF = load_diabetes()\n",
        "# print(diabetesDF.head())"
      ],
      "execution_count": 7,
      "outputs": []
    },
    {
      "cell_type": "markdown",
      "metadata": {
        "id": "wa1b45uKPK_o"
      },
      "source": [
        "Data Exploration"
      ]
    },
    {
      "cell_type": "code",
      "metadata": {
        "id": "O1A2QdwAPNTU"
      },
      "source": [
        "corr = diabetesDF.corr()\n",
        "print(corr)\n",
        "sns.heatmap(corr, \n",
        "         xticklabels=corr.columns, \n",
        "         yticklabels=corr.columns)"
      ],
      "execution_count": 13,
      "outputs": []
    },
    {
      "cell_type": "markdown",
      "metadata": {
        "id": "EXdzNHiyP17T"
      },
      "source": [
        "Normalization"
      ]
    },
    {
      "cell_type": "code",
      "metadata": {
        "id": "Pzq1RGskP-LC"
      },
      "source": [
        "dfTrain = diabetesDF[:650]\n",
        "dfTest = diabetesDF[650:750]\n",
        "dfCheck = diabetesDF[750:]"
      ],
      "execution_count": null,
      "outputs": []
    },
    {
      "cell_type": "code",
      "metadata": {
        "id": "1dJ6VXhfQQ7p"
      },
      "source": [
        "trainLabel = np.asarray(dfTrain['Outcome'])\n",
        "trainData = np.asarray(dfTrain.drop('Outcome',1))\n",
        "testLabel = np.asarray(dfTest['Outcome'])\n",
        "testData = np.asarray(dfTest.drop('Outcome',1))"
      ],
      "execution_count": 12,
      "outputs": []
    },
    {
      "cell_type": "code",
      "metadata": {
        "id": "NhOSSktxQCV8"
      },
      "source": [
        "means = np.mean(trainData, axis=0)\n",
        "stds = np.std(trainData, axis=0)\n",
        "trainData = (trainData - means)/stds\n",
        "testData = (testData - means)/stds"
      ],
      "execution_count": null,
      "outputs": []
    },
    {
      "cell_type": "markdown",
      "metadata": {
        "id": "zzf3-3joQRll"
      },
      "source": [
        "Training and Evaluation"
      ]
    },
    {
      "cell_type": "code",
      "metadata": {
        "id": "c-nVpDiOQnu0"
      },
      "source": [
        "diabetesCheck = LogisticRegression()\n",
        "diabetesCheck.fit(trainData, trainLabel)\n",
        "\n",
        "\n",
        "accuracy = diabetesCheck.score(testData, testLabel)\n",
        "print(\"accuracy = \", accuracy * 100, \"%\")\n",
        "\n",
        "#representation\n",
        "coeff = list(diabetesCheck.coef_[0])\n",
        "labels = list(trainData.columns)\n",
        "features = pd.DataFrame()\n",
        "features['Features'] = labels\n",
        "features['importance'] = coeff\n",
        "features.sort_values(by=['importance'], ascending=True, inplace=True)\n",
        "features['positive'] = features['importance'] > 0\n",
        "features.set_index('Features', inplace=True)\n",
        "features.importance.plot(kind='barh', figsize=(11, 6),color = features.positive.map({True: 'blue', False: 'red'}))\n",
        "plt.xlabel('Importance')"
      ],
      "execution_count": null,
      "outputs": []
    },
    {
      "cell_type": "code",
      "metadata": {
        "id": "XmG8ijOPQ2oE"
      },
      "source": [
        "joblib.dump([diabetesCheck, means, stds], 'diabeteseModel.pkl')\n",
        "\n",
        "\n",
        "diabetesLoadedModel, means, stds = joblib.load('diabeteseModel.pkl')\n",
        "accuracyModel = diabetesLoadedModel.score(testData, testLabel)\n",
        "print(\"accuracy = \",accuracyModel * 100,\"%\")"
      ],
      "execution_count": null,
      "outputs": []
    },
    {
      "cell_type": "markdown",
      "metadata": {
        "id": "eMVCb1aKRB_Z"
      },
      "source": [
        "Prediction"
      ]
    },
    {
      "cell_type": "code",
      "metadata": {
        "id": "HTiKd8IARDgF"
      },
      "source": [
        "sampleData = dfCheck[:1]\n",
        "# prepare sample\n",
        "sampleDataFeatures = np.asarray(sampleData.drop('Outcome',1))\n",
        "sampleDataFeatures = (sampleDataFeatures - means)/stds\n",
        "# predict\n",
        "predictionProbability = diabetesLoadedModel.predict_proba(sampleDataFeatures)\n",
        "prediction = diabetesLoadedModel.predict(sampleDataFeatures)\n",
        "print('Probability:', predictionProbability)\n",
        "print('prediction:', prediction)"
      ],
      "execution_count": null,
      "outputs": []
    },
    {
      "cell_type": "markdown",
      "metadata": {
        "id": "ADzvLQ0zH7T4"
      },
      "source": [
        "Decision Tree Model"
      ]
    },
    {
      "cell_type": "code",
      "metadata": {
        "id": "SIhZtHU6RPkP"
      },
      "source": [
        "from sklearn.externals.six import StringIO\n",
        "from IPython.display import Image\n",
        "from sklearn.tree imort export_graphviz"
      ],
      "execution_count": null,
      "outputs": []
    },
    {
      "cell_type": "code",
      "metadata": {
        "id": "3Si9Ez4LIKjf"
      },
      "source": [
        "df=load_diabetes()\n",
        "model = DecisionTreeClassifier()\n",
        "model=model.fit()"
      ],
      "execution_count": 11,
      "outputs": []
    }
  ]
}